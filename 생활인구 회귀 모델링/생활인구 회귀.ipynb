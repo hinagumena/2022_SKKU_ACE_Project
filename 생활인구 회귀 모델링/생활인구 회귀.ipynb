{
 "cells": [
  {
   "cell_type": "code",
   "execution_count": 1,
   "id": "878e46c5",
   "metadata": {},
   "outputs": [],
   "source": [
    "import pandas as pd\n",
    "data=pd.read_csv(\"생활인구 회귀.csv\",encoding='CP949')"
   ]
  },
  {
   "cell_type": "code",
   "execution_count": 2,
   "id": "cef2baf6",
   "metadata": {},
   "outputs": [],
   "source": [
    "from sklearn.ensemble import RandomForestRegressor\n",
    "from sklearn.metrics import accuracy_score\n",
    "from sklearn.metrics import mean_squared_error,r2_score\n",
    "import numpy as np"
   ]
  },
  {
   "cell_type": "code",
   "execution_count": 3,
   "id": "f13fc4b4",
   "metadata": {},
   "outputs": [
    {
     "data": {
      "text/plain": [
       "Index(['Unnamed: 0', '시도', '시군구', '읍면동', '행정동 코드', '병원', '학교', '학원', '문화시설',\n",
       "       '관광명소', '대형마트', '편의점', '지하철', '음식점', '카페', '2022년06월_총인구수', '위도', '경도',\n",
       "       '토지 매매가', '총생활인구수'],\n",
       "      dtype='object')"
      ]
     },
     "execution_count": 3,
     "metadata": {},
     "output_type": "execute_result"
    }
   ],
   "source": [
    "data.columns"
   ]
  },
  {
   "cell_type": "code",
   "execution_count": 4,
   "id": "7178a3cb",
   "metadata": {},
   "outputs": [],
   "source": [
    "del data['Unnamed: 0']"
   ]
  },
  {
   "cell_type": "code",
   "execution_count": 5,
   "id": "74aa6e2a",
   "metadata": {},
   "outputs": [],
   "source": [
    "y=data['총생활인구수']\n",
    "x=data.drop(columns=['총생활인구수','시도','시군구','읍면동',\n",
    "                     '행정동 코드','위도', '경도'])"
   ]
  },
  {
   "cell_type": "code",
   "execution_count": 6,
   "id": "060df718",
   "metadata": {},
   "outputs": [],
   "source": [
    "import numpy as np\n",
    "np.random.seed(1003)"
   ]
  },
  {
   "cell_type": "code",
   "execution_count": 7,
   "id": "728c2d7a",
   "metadata": {},
   "outputs": [],
   "source": [
    "from sklearn.model_selection import train_test_split\n",
    "X_train,X_validation,y_train,y_validation=train_test_split(\n",
    "    x,y,test_size=0.2,random_state=1003)"
   ]
  },
  {
   "cell_type": "code",
   "execution_count": 8,
   "id": "b17f6bfe",
   "metadata": {},
   "outputs": [
    {
     "name": "stdout",
     "output_type": "stream",
     "text": [
      "병원               0\n",
      "학교               0\n",
      "학원               0\n",
      "문화시설             0\n",
      "관광명소             0\n",
      "대형마트             0\n",
      "편의점              0\n",
      "지하철              0\n",
      "음식점              0\n",
      "카페               0\n",
      "2022년06월_총인구수    0\n",
      "토지 매매가           0\n",
      "dtype: int64\n",
      "12\n"
     ]
    }
   ],
   "source": [
    "print(X_train.isnull().sum())\n",
    "print(len(X_train.columns))"
   ]
  },
  {
   "cell_type": "markdown",
   "id": "5e5c63cb",
   "metadata": {},
   "source": [
    "## 1.랜덤 포레스트 회귀"
   ]
  },
  {
   "cell_type": "code",
   "execution_count": 9,
   "id": "40b9ea40",
   "metadata": {},
   "outputs": [
    {
     "name": "stdout",
     "output_type": "stream",
     "text": [
      "평균제곱근오차 :  8029559.659981156\n",
      "r-square: 0.7189530101754633\n",
      "accuracy: 80.41087082268236\n"
     ]
    }
   ],
   "source": [
    "regressor=RandomForestRegressor()\n",
    "regressor.fit(X_train, y_train)\n",
    "y_pred = regressor.predict(X_validation)\n",
    "\n",
    "mse = np.sqrt(mean_squared_error(y_pred, y_validation))\n",
    "r2=r2_score(y_validation,y_pred)\n",
    "errors=abs(y_validation-y_pred)\n",
    "mape=100*(errors/y_validation)\n",
    "accuracy=100-np.mean(mape)\n",
    "\n",
    "print('평균제곱근오차 : ', mse)\n",
    "print(\"r-square:\",r2)\n",
    "print(\"accuracy:\",accuracy)"
   ]
  },
  {
   "cell_type": "code",
   "execution_count": 10,
   "id": "ab30204c",
   "metadata": {},
   "outputs": [
    {
     "data": {
      "text/html": [
       "<div>\n",
       "<style scoped>\n",
       "    .dataframe tbody tr th:only-of-type {\n",
       "        vertical-align: middle;\n",
       "    }\n",
       "\n",
       "    .dataframe tbody tr th {\n",
       "        vertical-align: top;\n",
       "    }\n",
       "\n",
       "    .dataframe thead th {\n",
       "        text-align: right;\n",
       "    }\n",
       "</style>\n",
       "<table border=\"1\" class=\"dataframe\">\n",
       "  <thead>\n",
       "    <tr style=\"text-align: right;\">\n",
       "      <th></th>\n",
       "      <th>y_pred</th>\n",
       "      <th>y_validation</th>\n",
       "      <th>차이</th>\n",
       "    </tr>\n",
       "  </thead>\n",
       "  <tbody>\n",
       "    <tr>\n",
       "      <th>60</th>\n",
       "      <td>34285693.15500</td>\n",
       "      <td>27588094.80000</td>\n",
       "      <td>6697598.35500</td>\n",
       "    </tr>\n",
       "    <tr>\n",
       "      <th>344</th>\n",
       "      <td>30961411.26910</td>\n",
       "      <td>28608749.97000</td>\n",
       "      <td>2352661.29910</td>\n",
       "    </tr>\n",
       "    <tr>\n",
       "      <th>134</th>\n",
       "      <td>35774971.35540</td>\n",
       "      <td>26510476.01000</td>\n",
       "      <td>9264495.34540</td>\n",
       "    </tr>\n",
       "    <tr>\n",
       "      <th>384</th>\n",
       "      <td>48177095.25070</td>\n",
       "      <td>43215907.82000</td>\n",
       "      <td>4961187.43070</td>\n",
       "    </tr>\n",
       "    <tr>\n",
       "      <th>104</th>\n",
       "      <td>23987515.30510</td>\n",
       "      <td>25684739.23000</td>\n",
       "      <td>1697223.92490</td>\n",
       "    </tr>\n",
       "    <tr>\n",
       "      <th>...</th>\n",
       "      <td>...</td>\n",
       "      <td>...</td>\n",
       "      <td>...</td>\n",
       "    </tr>\n",
       "    <tr>\n",
       "      <th>227</th>\n",
       "      <td>33769134.01210</td>\n",
       "      <td>25567513.50000</td>\n",
       "      <td>8201620.51210</td>\n",
       "    </tr>\n",
       "    <tr>\n",
       "      <th>150</th>\n",
       "      <td>31832759.25100</td>\n",
       "      <td>31350544.67000</td>\n",
       "      <td>482214.58100</td>\n",
       "    </tr>\n",
       "    <tr>\n",
       "      <th>24</th>\n",
       "      <td>23629136.97920</td>\n",
       "      <td>31349333.46000</td>\n",
       "      <td>7720196.48080</td>\n",
       "    </tr>\n",
       "    <tr>\n",
       "      <th>373</th>\n",
       "      <td>15816443.31054</td>\n",
       "      <td>17272543.56000</td>\n",
       "      <td>1456100.24946</td>\n",
       "    </tr>\n",
       "    <tr>\n",
       "      <th>367</th>\n",
       "      <td>27832118.63020</td>\n",
       "      <td>34696472.48000</td>\n",
       "      <td>6864353.84980</td>\n",
       "    </tr>\n",
       "  </tbody>\n",
       "</table>\n",
       "<p>83 rows × 3 columns</p>\n",
       "</div>"
      ],
      "text/plain": [
       "            y_pred   y_validation            차이\n",
       "60  34285693.15500 27588094.80000 6697598.35500\n",
       "344 30961411.26910 28608749.97000 2352661.29910\n",
       "134 35774971.35540 26510476.01000 9264495.34540\n",
       "384 48177095.25070 43215907.82000 4961187.43070\n",
       "104 23987515.30510 25684739.23000 1697223.92490\n",
       "..             ...            ...           ...\n",
       "227 33769134.01210 25567513.50000 8201620.51210\n",
       "150 31832759.25100 31350544.67000  482214.58100\n",
       "24  23629136.97920 31349333.46000 7720196.48080\n",
       "373 15816443.31054 17272543.56000 1456100.24946\n",
       "367 27832118.63020 34696472.48000 6864353.84980\n",
       "\n",
       "[83 rows x 3 columns]"
      ]
     },
     "execution_count": 10,
     "metadata": {},
     "output_type": "execute_result"
    }
   ],
   "source": [
    "pd.options.display.float_format = '{:.5f}'.format\n",
    "comparison=pd.DataFrame({'y_pred':y_pred,'y_validation':y_validation})\n",
    "comparison['차이']=abs(comparison['y_validation']-comparison['y_pred'])\n",
    "comparison"
   ]
  },
  {
   "cell_type": "markdown",
   "id": "fdb9f688",
   "metadata": {},
   "source": [
    "feature importance 시각화"
   ]
  },
  {
   "cell_type": "code",
   "execution_count": 11,
   "id": "692dbd37",
   "metadata": {},
   "outputs": [],
   "source": [
    "import matplotlib.pyplot as plt\n",
    "import seaborn as sns\n",
    "%matplotlib inline"
   ]
  },
  {
   "cell_type": "code",
   "execution_count": 12,
   "id": "6a86859d",
   "metadata": {},
   "outputs": [
    {
     "data": {
      "image/png": "[encoded data removed]",
      "text/plain": [
       "<Figure size 576x432 with 1 Axes>"
      ]
     },
     "metadata": {
      "needs_background": "light"
     },
     "output_type": "display_data"
    }
   ],
   "source": [
    "plt.rcParams['font.family'] ='Malgun Gothic'\n",
    "\n",
    "plt.rcParams['axes.unicode_minus'] =False\n",
    "\n",
    "importances_values = regressor.feature_importances_\n",
    "importances = pd.Series(importances_values, index=X_train.columns)\n",
    "top20 = importances.sort_values(ascending=False)[:20]\n",
    "plt.figure(figsize=(8, 6))\n",
    "plt.title('Feature importances')\n",
    "sns.barplot(x = top20, y = top20.index)\n",
    "plt.show()"
   ]
  },
  {
   "cell_type": "markdown",
   "id": "446f2107",
   "metadata": {},
   "source": [
    "파라미터 튜닝"
   ]
  },
  {
   "cell_type": "code",
   "execution_count": 13,
   "id": "c9c65833",
   "metadata": {},
   "outputs": [
    {
     "name": "stdout",
     "output_type": "stream",
     "text": [
      "최적 하이퍼 파라미터:  {'max_features': 6, 'n_estimators': 300}\n"
     ]
    }
   ],
   "source": [
    "from sklearn.model_selection import GridSearchCV\n",
    " \n",
    "param_grid = [\n",
    "        {'n_estimators': [100,150,200,250,300], 'max_features': [6, 8,9,10,11,12]},\n",
    "        {'bootstrap': [False], 'n_estimators': [3, 10], 'max_features': [2, 3, 4]},\n",
    "    ]\n",
    " \n",
    "grid_search = GridSearchCV(regressor, param_grid, cv=5,\n",
    "                           scoring='neg_mean_squared_error',\n",
    "                           return_train_score=True)\n",
    " \n",
    "grid_search.fit(X_train, y_train)\n",
    "\n",
    "print('최적 하이퍼 파라미터: ', grid_search.best_params_)"
   ]
  },
  {
   "cell_type": "code",
   "execution_count": 14,
   "id": "f4fa717c",
   "metadata": {},
   "outputs": [
    {
     "name": "stdout",
     "output_type": "stream",
     "text": [
      "최적 하이퍼 파라미터:  {'max_features': 12, 'n_estimators': 70}\n"
     ]
    }
   ],
   "source": [
    "from sklearn.model_selection import GridSearchCV\n",
    " \n",
    "param_grid = [\n",
    "        {'n_estimators': [30,40,50,60,70], 'max_features': [8,9,10,11,12]}\n",
    "    ]\n",
    " \n",
    "grid_search = GridSearchCV(regressor, param_grid, cv=5,\n",
    "                           scoring='neg_mean_squared_error',\n",
    "                           return_train_score=True)\n",
    " \n",
    "grid_search.fit(X_train, y_train)\n",
    "\n",
    "print('최적 하이퍼 파라미터: ', grid_search.best_params_)"
   ]
  },
  {
   "cell_type": "markdown",
   "id": "a888d572",
   "metadata": {},
   "source": [
    "파라미터 튜닝 적용해서 구해보기 "
   ]
  },
  {
   "cell_type": "code",
   "execution_count": 34,
   "id": "8fd9a1b2",
   "metadata": {},
   "outputs": [
    {
     "name": "stdout",
     "output_type": "stream",
     "text": [
      "평균제곱근오차 :  8070226.062049624\n",
      "r-square: 0.7160990275449921\n",
      "accuracy: 79.35949957431386\n",
      "아까 30, 9 평균제곱근오차 :  9827712.721076937\n",
      "아까 300, 6 평균제곱근오차 : 9559026.801769411 \n"
     ]
    }
   ],
   "source": [
    "regressor=RandomForestRegressor(n_estimators=300,max_features=6)\n",
    "regressor.fit(X_train, y_train)\n",
    "y_pred = regressor.predict(X_validation)\n",
    "\n",
    "mse = np.sqrt(mean_squared_error(y_pred, y_validation))\n",
    "r2=r2_score(y_validation,y_pred)\n",
    "errors=abs(y_validation-y_pred)\n",
    "mape=100*(errors/y_validation)\n",
    "accuracy=100-np.mean(mape)\n",
    "\n",
    "print('평균제곱근오차 : ', mse)\n",
    "print(\"r-square:\",r2)\n",
    "print(\"accuracy:\",accuracy)\n",
    "print(\"아까 30, 9 평균제곱근오차 :  9827712.721076937\")\n",
    "print(\"아까 300, 6 평균제곱근오차 : 9559026.801769411 \")"
   ]
  },
  {
   "cell_type": "code",
   "execution_count": 35,
   "id": "42b42864",
   "metadata": {},
   "outputs": [
    {
     "data": {
      "text/html": [
       "<div>\n",
       "<style scoped>\n",
       "    .dataframe tbody tr th:only-of-type {\n",
       "        vertical-align: middle;\n",
       "    }\n",
       "\n",
       "    .dataframe tbody tr th {\n",
       "        vertical-align: top;\n",
       "    }\n",
       "\n",
       "    .dataframe thead th {\n",
       "        text-align: right;\n",
       "    }\n",
       "</style>\n",
       "<table border=\"1\" class=\"dataframe\">\n",
       "  <thead>\n",
       "    <tr style=\"text-align: right;\">\n",
       "      <th></th>\n",
       "      <th>y_pred</th>\n",
       "      <th>y_validation</th>\n",
       "      <th>차이</th>\n",
       "    </tr>\n",
       "  </thead>\n",
       "  <tbody>\n",
       "    <tr>\n",
       "      <th>60</th>\n",
       "      <td>36083479.84410</td>\n",
       "      <td>27588094.80000</td>\n",
       "      <td>8495385.04410</td>\n",
       "    </tr>\n",
       "    <tr>\n",
       "      <th>344</th>\n",
       "      <td>34000671.49123</td>\n",
       "      <td>28608749.97000</td>\n",
       "      <td>5391921.52123</td>\n",
       "    </tr>\n",
       "    <tr>\n",
       "      <th>134</th>\n",
       "      <td>32988128.78797</td>\n",
       "      <td>26510476.01000</td>\n",
       "      <td>6477652.77797</td>\n",
       "    </tr>\n",
       "    <tr>\n",
       "      <th>384</th>\n",
       "      <td>51386812.68160</td>\n",
       "      <td>43215907.82000</td>\n",
       "      <td>8170904.86160</td>\n",
       "    </tr>\n",
       "    <tr>\n",
       "      <th>104</th>\n",
       "      <td>26390696.56140</td>\n",
       "      <td>25684739.23000</td>\n",
       "      <td>705957.33140</td>\n",
       "    </tr>\n",
       "    <tr>\n",
       "      <th>...</th>\n",
       "      <td>...</td>\n",
       "      <td>...</td>\n",
       "      <td>...</td>\n",
       "    </tr>\n",
       "    <tr>\n",
       "      <th>227</th>\n",
       "      <td>33932389.89663</td>\n",
       "      <td>25567513.50000</td>\n",
       "      <td>8364876.39663</td>\n",
       "    </tr>\n",
       "    <tr>\n",
       "      <th>150</th>\n",
       "      <td>30700411.54757</td>\n",
       "      <td>31350544.67000</td>\n",
       "      <td>650133.12243</td>\n",
       "    </tr>\n",
       "    <tr>\n",
       "      <th>24</th>\n",
       "      <td>23731388.81095</td>\n",
       "      <td>31349333.46000</td>\n",
       "      <td>7617944.64905</td>\n",
       "    </tr>\n",
       "    <tr>\n",
       "      <th>373</th>\n",
       "      <td>16314313.10390</td>\n",
       "      <td>17272543.56000</td>\n",
       "      <td>958230.45610</td>\n",
       "    </tr>\n",
       "    <tr>\n",
       "      <th>367</th>\n",
       "      <td>29167661.96200</td>\n",
       "      <td>34696472.48000</td>\n",
       "      <td>5528810.51800</td>\n",
       "    </tr>\n",
       "  </tbody>\n",
       "</table>\n",
       "<p>83 rows × 3 columns</p>\n",
       "</div>"
      ],
      "text/plain": [
       "            y_pred   y_validation            차이\n",
       "60  36083479.84410 27588094.80000 8495385.04410\n",
       "344 34000671.49123 28608749.97000 5391921.52123\n",
       "134 32988128.78797 26510476.01000 6477652.77797\n",
       "384 51386812.68160 43215907.82000 8170904.86160\n",
       "104 26390696.56140 25684739.23000  705957.33140\n",
       "..             ...            ...           ...\n",
       "227 33932389.89663 25567513.50000 8364876.39663\n",
       "150 30700411.54757 31350544.67000  650133.12243\n",
       "24  23731388.81095 31349333.46000 7617944.64905\n",
       "373 16314313.10390 17272543.56000  958230.45610\n",
       "367 29167661.96200 34696472.48000 5528810.51800\n",
       "\n",
       "[83 rows x 3 columns]"
      ]
     },
     "execution_count": 35,
     "metadata": {},
     "output_type": "execute_result"
    }
   ],
   "source": [
    "pd.options.display.float_format = '{:.5f}'.format\n",
    "comparison=pd.DataFrame({'y_pred':y_pred,'y_validation':y_validation})\n",
    "comparison['차이']=abs(comparison['y_validation']-comparison['y_pred'])\n",
    "comparison.head(83)"
   ]
  },
  {
   "cell_type": "code",
   "execution_count": 36,
   "id": "609cf1fa",
   "metadata": {},
   "outputs": [],
   "source": [
    "y=data['총생활인구수']\n",
    "x=data[['2022년06월_총인구수','편의점','카페','음식점','토지 매매가']]"
   ]
  },
  {
   "cell_type": "code",
   "execution_count": 37,
   "id": "445571ae",
   "metadata": {},
   "outputs": [],
   "source": [
    "from sklearn.model_selection import train_test_split\n",
    "X_train,X_validation,y_train,y_validation=train_test_split(\n",
    "    x,y,test_size=0.2,random_state=1003)"
   ]
  },
  {
   "cell_type": "markdown",
   "id": "c9c31522",
   "metadata": {},
   "source": [
    "regressor=RandomForestRegressor(n_estimators=300,max_features=3)\n",
    "\n",
    "평균제곱근오차 :  7940168.843873088\n",
    "\n",
    "r-square: 0.7251758112024487\n",
    "\n",
    "accuracy: 80.54889249838891"
   ]
  },
  {
   "cell_type": "code",
   "execution_count": 49,
   "id": "f15459a0",
   "metadata": {},
   "outputs": [
    {
     "name": "stdout",
     "output_type": "stream",
     "text": [
      "평균제곱근오차 :  7960927.194103136\n",
      "r-square: 0.7237369616861093\n",
      "accuracy: 80.67996688106766\n"
     ]
    }
   ],
   "source": [
    "regressor=RandomForestRegressor(n_estimators=300,max_features=3)\n",
    "regressor.fit(X_train, y_train)\n",
    "y_pred = regressor.predict(X_validation)\n",
    "\n",
    "mse = np.sqrt(mean_squared_error(y_pred, y_validation))\n",
    "r2=r2_score(y_validation,y_pred)\n",
    "errors=abs(y_validation-y_pred)\n",
    "mape=100*(errors/y_validation)\n",
    "accuracy=100-np.mean(mape)\n",
    "\n",
    "print('평균제곱근오차 : ', mse)\n",
    "print(\"r-square:\",r2)\n",
    "print(\"accuracy:\",accuracy)"
   ]
  },
  {
   "cell_type": "code",
   "execution_count": 45,
   "id": "5765846b",
   "metadata": {},
   "outputs": [
    {
     "name": "stdout",
     "output_type": "stream",
     "text": [
      "최적 하이퍼 파라미터:  {'max_features': 4, 'min_samples_leaf': 8, 'min_samples_split': 8, 'n_estimators': 300}\n"
     ]
    }
   ],
   "source": [
    "from sklearn.model_selection import GridSearchCV\n",
    " \n",
    "param_grid = [\n",
    "        {'n_estimators': [300,350,400], 'max_features': [2,3,4,5],\n",
    "        'min_samples_leaf':[8,12,18],'min_samples_split':[8,16,20]}\n",
    "    ]\n",
    " \n",
    "grid_search = GridSearchCV(regressor, param_grid, cv=5,\n",
    "                           scoring='neg_mean_squared_error',\n",
    "                           return_train_score=True)\n",
    " \n",
    "grid_search.fit(X_train, y_train)\n",
    "\n",
    "print('최적 하이퍼 파라미터: ', grid_search.best_params_)"
   ]
  },
  {
   "cell_type": "markdown",
   "id": "f279af68",
   "metadata": {},
   "source": [
    "## 2. 의사결정트리 회귀"
   ]
  },
  {
   "cell_type": "code",
   "execution_count": 17,
   "id": "bc5446b4",
   "metadata": {},
   "outputs": [],
   "source": [
    "from sklearn.tree import DecisionTreeRegressor"
   ]
  },
  {
   "cell_type": "code",
   "execution_count": 43,
   "id": "1e259a0a",
   "metadata": {},
   "outputs": [
    {
     "name": "stdout",
     "output_type": "stream",
     "text": [
      "평균제곱근오차 :  11756909.03112994\n",
      "r-square: 0.3974656714345569\n",
      "accuracy: 73.74360459543752\n"
     ]
    }
   ],
   "source": [
    "model = DecisionTreeRegressor()\n",
    "model.fit(X_train, y_train)\n",
    "y_pred = model.predict(X_validation)\n",
    "\n",
    "mse = np.sqrt(mean_squared_error(y_pred, y_validation))\n",
    "r2=r2_score(y_validation,y_pred)\n",
    "errors=abs(y_validation-y_pred)\n",
    "mape=100*(errors/y_validation)\n",
    "accuracy=100-np.mean(mape)\n",
    "\n",
    "print('평균제곱근오차 : ', mse)\n",
    "print(\"r-square:\",r2)\n",
    "print(\"accuracy:\",accuracy)"
   ]
  },
  {
   "cell_type": "code",
   "execution_count": 19,
   "id": "b0c3362b",
   "metadata": {},
   "outputs": [
    {
     "data": {
      "text/html": [
       "<div>\n",
       "<style scoped>\n",
       "    .dataframe tbody tr th:only-of-type {\n",
       "        vertical-align: middle;\n",
       "    }\n",
       "\n",
       "    .dataframe tbody tr th {\n",
       "        vertical-align: top;\n",
       "    }\n",
       "\n",
       "    .dataframe thead th {\n",
       "        text-align: right;\n",
       "    }\n",
       "</style>\n",
       "<table border=\"1\" class=\"dataframe\">\n",
       "  <thead>\n",
       "    <tr style=\"text-align: right;\">\n",
       "      <th></th>\n",
       "      <th>y_pred</th>\n",
       "      <th>y_validation</th>\n",
       "      <th>차이</th>\n",
       "    </tr>\n",
       "  </thead>\n",
       "  <tbody>\n",
       "    <tr>\n",
       "      <th>60</th>\n",
       "      <td>33774193.07000</td>\n",
       "      <td>27588094.80000</td>\n",
       "      <td>6186098.27000</td>\n",
       "    </tr>\n",
       "    <tr>\n",
       "      <th>344</th>\n",
       "      <td>24033932.24000</td>\n",
       "      <td>28608749.97000</td>\n",
       "      <td>4574817.73000</td>\n",
       "    </tr>\n",
       "    <tr>\n",
       "      <th>134</th>\n",
       "      <td>35927237.98000</td>\n",
       "      <td>26510476.01000</td>\n",
       "      <td>9416761.97000</td>\n",
       "    </tr>\n",
       "    <tr>\n",
       "      <th>384</th>\n",
       "      <td>47329870.98000</td>\n",
       "      <td>43215907.82000</td>\n",
       "      <td>4113963.16000</td>\n",
       "    </tr>\n",
       "    <tr>\n",
       "      <th>104</th>\n",
       "      <td>24033932.24000</td>\n",
       "      <td>25684739.23000</td>\n",
       "      <td>1650806.99000</td>\n",
       "    </tr>\n",
       "    <tr>\n",
       "      <th>...</th>\n",
       "      <td>...</td>\n",
       "      <td>...</td>\n",
       "      <td>...</td>\n",
       "    </tr>\n",
       "    <tr>\n",
       "      <th>227</th>\n",
       "      <td>32899973.27000</td>\n",
       "      <td>25567513.50000</td>\n",
       "      <td>7332459.77000</td>\n",
       "    </tr>\n",
       "    <tr>\n",
       "      <th>150</th>\n",
       "      <td>35209285.37000</td>\n",
       "      <td>31350544.67000</td>\n",
       "      <td>3858740.70000</td>\n",
       "    </tr>\n",
       "    <tr>\n",
       "      <th>24</th>\n",
       "      <td>23641455.13000</td>\n",
       "      <td>31349333.46000</td>\n",
       "      <td>7707878.33000</td>\n",
       "    </tr>\n",
       "    <tr>\n",
       "      <th>373</th>\n",
       "      <td>13194218.99000</td>\n",
       "      <td>17272543.56000</td>\n",
       "      <td>4078324.57000</td>\n",
       "    </tr>\n",
       "    <tr>\n",
       "      <th>367</th>\n",
       "      <td>26316655.26000</td>\n",
       "      <td>34696472.48000</td>\n",
       "      <td>8379817.22000</td>\n",
       "    </tr>\n",
       "  </tbody>\n",
       "</table>\n",
       "<p>83 rows × 3 columns</p>\n",
       "</div>"
      ],
      "text/plain": [
       "            y_pred   y_validation            차이\n",
       "60  33774193.07000 27588094.80000 6186098.27000\n",
       "344 24033932.24000 28608749.97000 4574817.73000\n",
       "134 35927237.98000 26510476.01000 9416761.97000\n",
       "384 47329870.98000 43215907.82000 4113963.16000\n",
       "104 24033932.24000 25684739.23000 1650806.99000\n",
       "..             ...            ...           ...\n",
       "227 32899973.27000 25567513.50000 7332459.77000\n",
       "150 35209285.37000 31350544.67000 3858740.70000\n",
       "24  23641455.13000 31349333.46000 7707878.33000\n",
       "373 13194218.99000 17272543.56000 4078324.57000\n",
       "367 26316655.26000 34696472.48000 8379817.22000\n",
       "\n",
       "[83 rows x 3 columns]"
      ]
     },
     "execution_count": 19,
     "metadata": {},
     "output_type": "execute_result"
    }
   ],
   "source": [
    "pd.options.display.float_format = '{:.5f}'.format\n",
    "comparison=pd.DataFrame({'y_pred':y_pred,'y_validation':y_validation})\n",
    "comparison['차이']=abs(comparison['y_validation']-comparison['y_pred'])\n",
    "comparison"
   ]
  },
  {
   "cell_type": "code",
   "execution_count": 20,
   "id": "821513d8",
   "metadata": {},
   "outputs": [
    {
     "data": {
      "image/png": "[encoded data removed]",
      "text/plain": [
       "<Figure size 576x432 with 1 Axes>"
      ]
     },
     "metadata": {
      "needs_background": "light"
     },
     "output_type": "display_data"
    }
   ],
   "source": [
    "import matplotlib.pyplot as plt\n",
    "import seaborn as sns\n",
    "%matplotlib inline\n",
    "\n",
    "plt.rcParams['font.family'] ='Malgun Gothic'\n",
    "\n",
    "plt.rcParams['axes.unicode_minus'] =False\n",
    "\n",
    "importances_values = model.feature_importances_\n",
    "importances = pd.Series(importances_values, index=X_train.columns)\n",
    "top20 = importances.sort_values(ascending=False)[:20]\n",
    "plt.figure(figsize=(8, 6))\n",
    "plt.title('Feature importances Top 20')\n",
    "sns.barplot(x = top20, y = top20.index)\n",
    "plt.show()"
   ]
  },
  {
   "cell_type": "markdown",
   "id": "d9be9102",
   "metadata": {},
   "source": [
    "## 3. svm"
   ]
  },
  {
   "cell_type": "code",
   "execution_count": 44,
   "id": "d72c3017",
   "metadata": {},
   "outputs": [
    {
     "name": "stdout",
     "output_type": "stream",
     "text": [
      "평균제곱근오차 :  15710056.200043878\n",
      "r-square: -0.07584809913968327\n",
      "accuracy: 59.13980930528717\n",
      "평균제곱근오차 :  15710056.200043878\n"
     ]
    }
   ],
   "source": [
    "from sklearn import svm\n",
    "model = svm.SVR()\n",
    "model.fit(X_train, y_train)\n",
    "y_pred=model.predict(X_validation)\n",
    "\n",
    "mse = np.sqrt(mean_squared_error(y_pred, y_validation))\n",
    "r2=r2_score(y_validation,y_pred)\n",
    "errors=abs(y_validation-y_pred)\n",
    "mape=100*(errors/y_validation)\n",
    "accuracy=100-np.mean(mape)\n",
    "\n",
    "print('평균제곱근오차 : ', mse)\n",
    "print(\"r-square:\",r2)\n",
    "print(\"accuracy:\",accuracy)\n",
    "\n",
    "print('평균제곱근오차 : ', mse)"
   ]
  },
  {
   "cell_type": "code",
   "execution_count": 22,
   "id": "0fc66e6d",
   "metadata": {},
   "outputs": [
    {
     "data": {
      "text/html": [
       "<div>\n",
       "<style scoped>\n",
       "    .dataframe tbody tr th:only-of-type {\n",
       "        vertical-align: middle;\n",
       "    }\n",
       "\n",
       "    .dataframe tbody tr th {\n",
       "        vertical-align: top;\n",
       "    }\n",
       "\n",
       "    .dataframe thead th {\n",
       "        text-align: right;\n",
       "    }\n",
       "</style>\n",
       "<table border=\"1\" class=\"dataframe\">\n",
       "  <thead>\n",
       "    <tr style=\"text-align: right;\">\n",
       "      <th></th>\n",
       "      <th>y_pred</th>\n",
       "      <th>y_validation</th>\n",
       "      <th>차이</th>\n",
       "    </tr>\n",
       "  </thead>\n",
       "  <tbody>\n",
       "    <tr>\n",
       "      <th>60</th>\n",
       "      <td>29427226.13686</td>\n",
       "      <td>27588094.80000</td>\n",
       "      <td>1839131.33686</td>\n",
       "    </tr>\n",
       "    <tr>\n",
       "      <th>344</th>\n",
       "      <td>29427236.76998</td>\n",
       "      <td>28608749.97000</td>\n",
       "      <td>818486.79998</td>\n",
       "    </tr>\n",
       "    <tr>\n",
       "      <th>134</th>\n",
       "      <td>29427244.04149</td>\n",
       "      <td>26510476.01000</td>\n",
       "      <td>2916768.03149</td>\n",
       "    </tr>\n",
       "    <tr>\n",
       "      <th>384</th>\n",
       "      <td>29427286.94135</td>\n",
       "      <td>43215907.82000</td>\n",
       "      <td>13788620.87865</td>\n",
       "    </tr>\n",
       "    <tr>\n",
       "      <th>104</th>\n",
       "      <td>29427236.31039</td>\n",
       "      <td>25684739.23000</td>\n",
       "      <td>3742497.08039</td>\n",
       "    </tr>\n",
       "    <tr>\n",
       "      <th>...</th>\n",
       "      <td>...</td>\n",
       "      <td>...</td>\n",
       "      <td>...</td>\n",
       "    </tr>\n",
       "    <tr>\n",
       "      <th>227</th>\n",
       "      <td>29427242.47169</td>\n",
       "      <td>25567513.50000</td>\n",
       "      <td>3859728.97169</td>\n",
       "    </tr>\n",
       "    <tr>\n",
       "      <th>150</th>\n",
       "      <td>29427247.81348</td>\n",
       "      <td>31350544.67000</td>\n",
       "      <td>1923296.85652</td>\n",
       "    </tr>\n",
       "    <tr>\n",
       "      <th>24</th>\n",
       "      <td>29427209.79973</td>\n",
       "      <td>31349333.46000</td>\n",
       "      <td>1922123.66027</td>\n",
       "    </tr>\n",
       "    <tr>\n",
       "      <th>373</th>\n",
       "      <td>29427216.42825</td>\n",
       "      <td>17272543.56000</td>\n",
       "      <td>12154672.86825</td>\n",
       "    </tr>\n",
       "    <tr>\n",
       "      <th>367</th>\n",
       "      <td>29427256.54529</td>\n",
       "      <td>34696472.48000</td>\n",
       "      <td>5269215.93471</td>\n",
       "    </tr>\n",
       "  </tbody>\n",
       "</table>\n",
       "<p>83 rows × 3 columns</p>\n",
       "</div>"
      ],
      "text/plain": [
       "            y_pred   y_validation             차이\n",
       "60  29427226.13686 27588094.80000  1839131.33686\n",
       "344 29427236.76998 28608749.97000   818486.79998\n",
       "134 29427244.04149 26510476.01000  2916768.03149\n",
       "384 29427286.94135 43215907.82000 13788620.87865\n",
       "104 29427236.31039 25684739.23000  3742497.08039\n",
       "..             ...            ...            ...\n",
       "227 29427242.47169 25567513.50000  3859728.97169\n",
       "150 29427247.81348 31350544.67000  1923296.85652\n",
       "24  29427209.79973 31349333.46000  1922123.66027\n",
       "373 29427216.42825 17272543.56000 12154672.86825\n",
       "367 29427256.54529 34696472.48000  5269215.93471\n",
       "\n",
       "[83 rows x 3 columns]"
      ]
     },
     "execution_count": 22,
     "metadata": {},
     "output_type": "execute_result"
    }
   ],
   "source": [
    "pd.options.display.float_format = '{:.5f}'.format\n",
    "comparison=pd.DataFrame({'y_pred':y_pred,'y_validation':y_validation})\n",
    "comparison['차이']=abs(comparison['y_validation']-comparison['y_pred'])\n",
    "comparison"
   ]
  },
  {
   "cell_type": "code",
   "execution_count": null,
   "id": "1b9e05c3",
   "metadata": {},
   "outputs": [],
   "source": []
  }
 ],
 "metadata": {
  "kernelspec": {
   "display_name": "Python 3 (ipykernel)",
   "language": "python",
   "name": "python3"
  },
  "language_info": {
   "codemirror_mode": {
    "name": "ipython",
    "version": 3
   },
   "file_extension": ".py",
   "mimetype": "text/x-python",
   "name": "python",
   "nbconvert_exporter": "python",
   "pygments_lexer": "ipython3",
   "version": "3.9.12"
  }
 },
 "nbformat": 4,
 "nbformat_minor": 5
}
